{
  "nbformat": 4,
  "nbformat_minor": 0,
  "metadata": {
    "colab": {
      "name": "Diazonic Labs_Ask Us Anything -   2.ipynb",
      "provenance": [],
      "authorship_tag": "ABX9TyMKAdEYZCbWcpC8Ya9pDsjJ",
      "include_colab_link": true
    },
    "kernelspec": {
      "name": "python3",
      "display_name": "Python 3"
    }
  },
  "cells": [
    {
      "cell_type": "markdown",
      "metadata": {
        "id": "view-in-github",
        "colab_type": "text"
      },
      "source": [
        "<a href=\"https://colab.research.google.com/github/diazonic/ask-us-anything/blob/master/Diazonic_Labs_Ask_Us_Anything_2.ipynb\" target=\"_parent\"><img src=\"https://colab.research.google.com/assets/colab-badge.svg\" alt=\"Open In Colab\"/></a>"
      ]
    },
    {
      "cell_type": "markdown",
      "metadata": {
        "id": "7aQfe_EF1U7e",
        "colab_type": "text"
      },
      "source": [
        "## How is list different from variable in terms of memory allocation?"
      ]
    },
    {
      "cell_type": "code",
      "metadata": {
        "id": "Gy-mIkxz2gFC",
        "colab_type": "code",
        "colab": {}
      },
      "source": [
        "# id()\n",
        "# value of id for variable a - 10914784"
      ],
      "execution_count": 0,
      "outputs": []
    },
    {
      "cell_type": "markdown",
      "metadata": {
        "id": "CleZQwwYC5vv",
        "colab_type": "text"
      },
      "source": [
        "## Variable Assignment\n"
      ]
    },
    {
      "cell_type": "code",
      "metadata": {
        "id": "k6F_zxv12x98",
        "colab_type": "code",
        "colab": {
          "base_uri": "https://localhost:8080/",
          "height": 52
        },
        "outputId": "119ff26f-2ba0-492c-a2d0-600e4325686e"
      },
      "source": [
        "a = 10 #1st variable is a \n",
        "b = a # 2nd variable is b\n",
        "print(id(a))\n",
        "print(id(b))"
      ],
      "execution_count": 3,
      "outputs": [
        {
          "output_type": "stream",
          "text": [
            "10914784\n",
            "10914784\n"
          ],
          "name": "stdout"
        }
      ]
    },
    {
      "cell_type": "code",
      "metadata": {
        "id": "KKr3RZ7G24Fn",
        "colab_type": "code",
        "colab": {
          "base_uri": "https://localhost:8080/",
          "height": 87
        },
        "outputId": "f922279e-34b6-41ad-abc0-673be31fedb0"
      },
      "source": [
        "b = 20\n",
        "print(a)\n",
        "print(b)\n",
        "print(id(a))\n",
        "print(id(b))"
      ],
      "execution_count": 4,
      "outputs": [
        {
          "output_type": "stream",
          "text": [
            "10\n",
            "20\n",
            "10914784\n",
            "10915104\n"
          ],
          "name": "stdout"
        }
      ]
    },
    {
      "cell_type": "markdown",
      "metadata": {
        "id": "5gMc_eP43XPm",
        "colab_type": "text"
      },
      "source": [
        "# List assignment"
      ]
    },
    {
      "cell_type": "code",
      "metadata": {
        "id": "NiFjpjkD30rh",
        "colab_type": "code",
        "colab": {}
      },
      "source": [
        "# id of list1 : 140677087989704"
      ],
      "execution_count": 0,
      "outputs": []
    },
    {
      "cell_type": "code",
      "metadata": {
        "id": "JOCI-Mx53rbA",
        "colab_type": "code",
        "colab": {
          "base_uri": "https://localhost:8080/",
          "height": 52
        },
        "outputId": "a0f42c20-d537-4367-ec03-ee795531293f"
      },
      "source": [
        "list1 = [1,2,3,4]\n",
        "list2 = list1\n",
        "print(id(list1))\n",
        "print(id(list2))"
      ],
      "execution_count": 6,
      "outputs": [
        {
          "output_type": "stream",
          "text": [
            "140677087989704\n",
            "140677087989704\n"
          ],
          "name": "stdout"
        }
      ]
    },
    {
      "cell_type": "code",
      "metadata": {
        "id": "dChS2wcT3yOi",
        "colab_type": "code",
        "colab": {
          "base_uri": "https://localhost:8080/",
          "height": 87
        },
        "outputId": "49dc2a19-d9c3-476b-9c22-21c9b7ccf1db"
      },
      "source": [
        "list2[0] = 9\n",
        "print(list1)\n",
        "print(list2)\n",
        "print(id(list1))\n",
        "print(id(list2))"
      ],
      "execution_count": 7,
      "outputs": [
        {
          "output_type": "stream",
          "text": [
            "[9, 2, 3, 4]\n",
            "[9, 2, 3, 4]\n",
            "140677087989704\n",
            "140677087989704\n"
          ],
          "name": "stdout"
        }
      ]
    },
    {
      "cell_type": "code",
      "metadata": {
        "id": "cRUxhpmC4UsZ",
        "colab_type": "code",
        "colab": {
          "base_uri": "https://localhost:8080/",
          "height": 52
        },
        "outputId": "c42b9867-f757-445b-b624-3da96f041224"
      },
      "source": [
        "list1 = [1,4,7,9]\n",
        "list2 = list1.copy()\n",
        "print(id(list1))\n",
        "print(id(list2))"
      ],
      "execution_count": 8,
      "outputs": [
        {
          "output_type": "stream",
          "text": [
            "140677088460744\n",
            "140677088353096\n"
          ],
          "name": "stdout"
        }
      ]
    },
    {
      "cell_type": "markdown",
      "metadata": {
        "id": "VUa1Wfg1ic7X",
        "colab_type": "text"
      },
      "source": [
        "With list2 = list1, you don't actually have two lists. The assignment just copies the reference to the list, not the actual list, so both list1 and list2 refer to the same list after the assignment.\n",
        "\n",
        "Reference : https://stackoverflow.com/questions/2612802/how-to-clone-or-copy-a-list"
      ]
    }
  ]
}